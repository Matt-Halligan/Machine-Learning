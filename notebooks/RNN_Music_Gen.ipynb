{
 "cells": [
  {
   "cell_type": "markdown",
   "id": "b034a9fa-f3cf-4281-a74e-35202e65551e",
   "metadata": {},
   "source": [
    "# Lab 1: Music Generation with RNNs\n",
    "I explore building a Recurrent Neural Network (RNN) for music generation using Pytorch. I train a model to learn the patterns in raw sheet music in [ABC notation](https://en.wikipedia.org/wiki/ABC_notation) and then use this model to generate new music."
   ]
  },
  {
   "cell_type": "code",
   "execution_count": null,
   "id": "c41a7eef-1caa-4ad8-9ea7-01fe6fe87bf1",
   "metadata": {},
   "outputs": [],
   "source": [
    "!python3 -m pip install comet_ml > /dev/null 2>&1\n",
    "!python3 -m pip install mitdeeplearning --quiet"
   ]
  },
  {
   "cell_type": "code",
   "execution_count": null,
   "id": "b5610b5c-e4e3-47a2-9e4a-cff94073e4f1",
   "metadata": {},
   "outputs": [],
   "source": [
    "import torch\n",
    "import torch.nn as nn\n",
    "import torch.optim as optim\n",
    "\n",
    "import mitdeeplearning as mdl\n",
    "\n",
    "import numpy as np\n",
    "import os\n",
    "import time\n",
    "import functools\n",
    "from IPython import display as ipythondisplay\n",
    "from tqdm.notebook import tqdm\n",
    "from scipy.io.wavfile import write\n",
    "!apt-get isntall abcmidi timidity > /dev/null 2>&1\n",
    "\n",
    "import comet_ml\n",
    "import json\n",
    "\n",
    "with open(\"../credentials.json\", 'r') as f:\n",
    "    credentials = json.load(f)\n",
    "COMET_API_KEY = credentials['CometML']\n",
    "assert COMET_API_KEY != \"\"\n",
    "\n",
    "\n"
   ]
  },
  {
   "cell_type": "raw",
   "id": "0610c314-981d-4003-8d69-146ac2623305",
   "metadata": {},
   "source": [
    "# © MIT Introduction to Deep Learning\n",
    "# http://introtodeeplearning.com"
   ]
  }
 ],
 "metadata": {
  "kernelspec": {
   "display_name": "Python 3 (ipykernel)",
   "language": "python",
   "name": "python3"
  },
  "language_info": {
   "codemirror_mode": {
    "name": "ipython",
    "version": 3
   },
   "file_extension": ".py",
   "mimetype": "text/x-python",
   "name": "python",
   "nbconvert_exporter": "python",
   "pygments_lexer": "ipython3",
   "version": "3.8.10"
  }
 },
 "nbformat": 4,
 "nbformat_minor": 5
}
